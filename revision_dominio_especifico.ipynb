{
 "cells": [
  {
   "cell_type": "markdown",
   "id": "41639c8e",
   "metadata": {},
   "source": [
    "# Cargue de Datos"
   ]
  },
  {
   "cell_type": "code",
   "execution_count": 61,
   "id": "21a60bde-f9f7-4b19-864b-870b01c7adda",
   "metadata": {},
   "outputs": [
    {
     "name": "stdout",
     "output_type": "stream",
     "text": [
      "<class 'pandas.core.frame.DataFrame'>\n",
      "RangeIndex: 13080 entries, 0 to 13079\n",
      "Data columns (total 3 columns):\n",
      " #   Column             Non-Null Count  Dtype \n",
      "---  ------             --------------  ----- \n",
      " 0   translated_text    13080 non-null  object\n",
      " 1   annotation_binary  13080 non-null  int64 \n",
      " 2   data_split         13080 non-null  object\n",
      "dtypes: int64(1), object(2)\n",
      "memory usage: 306.7+ KB\n"
     ]
    }
   ],
   "source": [
    "import pandas as pd\n",
    "\n",
    "#df = pd.read_csv(\"hf://datasets/USC-MOLA-Lab/MFRC/final_mfrc_data.csv\")\n",
    "df = pd.read_csv('data_split.csv')\n",
    "df.info()"
   ]
  },
  {
   "cell_type": "code",
   "execution_count": 62,
   "id": "e80d00e3-ffc2-4d72-b458-459e9ea77386",
   "metadata": {},
   "outputs": [
    {
     "data": {
      "text/plain": [
       "data_split\n",
       "train    9156\n",
       "val      1962\n",
       "test     1962\n",
       "Name: count, dtype: int64"
      ]
     },
     "execution_count": 62,
     "metadata": {},
     "output_type": "execute_result"
    }
   ],
   "source": [
    "df.data_split.value_counts()"
   ]
  },
  {
   "cell_type": "code",
   "execution_count": 63,
   "id": "9f9cfffe",
   "metadata": {},
   "outputs": [
    {
     "name": "stdout",
     "output_type": "stream",
     "text": [
      "Apple 0 5 ORG\n",
      "U.K. 27 31 GPE\n",
      "$1 billion 44 54 MONEY\n"
     ]
    },
    {
     "data": {
      "text/html": [
       "<span class=\"tex2jax_ignore\"><div class=\"entities\" style=\"line-height: 2.5; direction: ltr\">\n",
       "<mark class=\"entity\" style=\"background: #7aecec; padding: 0.45em 0.6em; margin: 0 0.25em; line-height: 1; border-radius: 0.35em;\">\n",
       "    Apple\n",
       "    <span style=\"font-size: 0.8em; font-weight: bold; line-height: 1; border-radius: 0.35em; vertical-align: middle; margin-left: 0.5rem\">ORG</span>\n",
       "</mark>\n",
       " is looking at buying \n",
       "<mark class=\"entity\" style=\"background: #feca74; padding: 0.45em 0.6em; margin: 0 0.25em; line-height: 1; border-radius: 0.35em;\">\n",
       "    U.K.\n",
       "    <span style=\"font-size: 0.8em; font-weight: bold; line-height: 1; border-radius: 0.35em; vertical-align: middle; margin-left: 0.5rem\">GPE</span>\n",
       "</mark>\n",
       " startup for \n",
       "<mark class=\"entity\" style=\"background: #e4e7d2; padding: 0.45em 0.6em; margin: 0 0.25em; line-height: 1; border-radius: 0.35em;\">\n",
       "    $1 billion\n",
       "    <span style=\"font-size: 0.8em; font-weight: bold; line-height: 1; border-radius: 0.35em; vertical-align: middle; margin-left: 0.5rem\">MONEY</span>\n",
       "</mark>\n",
       "</div></span>"
      ],
      "text/plain": [
       "<IPython.core.display.HTML object>"
      ]
     },
     "metadata": {},
     "output_type": "display_data"
    }
   ],
   "source": [
    "import spacy\n",
    "from spacy import displacy\n",
    "\n",
    "nlp = spacy.load(\"en_core_web_sm\")\n",
    "doc = nlp(\"Apple is looking at buying U.K. startup for $1 billion\")\n",
    "\n",
    "for ent in doc.ents:\n",
    "    print(ent.text, ent.start_char, ent.end_char, ent.label_)\n",
    "\n",
    "displacy.render(doc, style=\"ent\")"
   ]
  },
  {
   "cell_type": "code",
   "execution_count": 64,
   "id": "d0196978",
   "metadata": {},
   "outputs": [
    {
     "data": {
      "text/html": [
       "<span class=\"tex2jax_ignore\"><div class=\"entities\" style=\"line-height: 2.5; direction: ltr\">\n",
       "<mark class=\"entity\" style=\"background: #ddd; padding: 0.45em 0.6em; margin: 0 0.25em; line-height: 1; border-radius: 0.35em;\">\n",
       "    Usted\n",
       "    <span style=\"font-size: 0.8em; font-weight: bold; line-height: 1; border-radius: 0.35em; vertical-align: middle; margin-left: 0.5rem\">PER</span>\n",
       "</mark>\n",
       " lo está simplificando. \n",
       "<mark class=\"entity\" style=\"background: #7aecec; padding: 0.45em 0.6em; margin: 0 0.25em; line-height: 1; border-radius: 0.35em;\">\n",
       "    El Islam\n",
       "    <span style=\"font-size: 0.8em; font-weight: bold; line-height: 1; border-radius: 0.35em; vertical-align: middle; margin-left: 0.5rem\">ORG</span>\n",
       "</mark>\n",
       " no es la única razón detrás del terrorismo, los países occidentales entrometiéndose en el \n",
       "<mark class=\"entity\" style=\"background: #ddd; padding: 0.45em 0.6em; margin: 0 0.25em; line-height: 1; border-radius: 0.35em;\">\n",
       "    Medio Oriente\n",
       "    <span style=\"font-size: 0.8em; font-weight: bold; line-height: 1; border-radius: 0.35em; vertical-align: middle; margin-left: 0.5rem\">MISC</span>\n",
       "</mark>\n",
       ", creando caos, robando recursos y matando gente inocente no ayuda. Es curioso que a todos estos partidarios de \n",
       "<mark class=\"entity\" style=\"background: #ddd; padding: 0.45em 0.6em; margin: 0 0.25em; line-height: 1; border-radius: 0.35em;\">\n",
       "    Trump\n",
       "    <span style=\"font-size: 0.8em; font-weight: bold; line-height: 1; border-radius: 0.35em; vertical-align: middle; margin-left: 0.5rem\">PER</span>\n",
       "</mark>\n",
       " y \n",
       "<mark class=\"entity\" style=\"background: #ddd; padding: 0.45em 0.6em; margin: 0 0.25em; line-height: 1; border-radius: 0.35em;\">\n",
       "    Le Pen\n",
       "    <span style=\"font-size: 0.8em; font-weight: bold; line-height: 1; border-radius: 0.35em; vertical-align: middle; margin-left: 0.5rem\">PER</span>\n",
       "</mark>\n",
       " no les importe cuando sus países lanzan bombas y ataques con drones contra personas inocentes.</div></span>"
      ],
      "text/plain": [
       "<IPython.core.display.HTML object>"
      ]
     },
     "metadata": {},
     "output_type": "display_data"
    },
    {
     "name": "stdout",
     "output_type": "stream",
     "text": [
      "0\n"
     ]
    }
   ],
   "source": [
    "import spacy\n",
    "\n",
    "n = 7\n",
    "\n",
    "nlp = spacy.load(\"es_core_news_lg\")\n",
    "\n",
    "doc = nlp(df.translated_text[n])\n",
    "\n",
    "displacy.render(doc, style='ent')\n",
    "\n",
    "print(df.annotation_binary[n])\n"
   ]
  },
  {
   "cell_type": "code",
   "execution_count": 65,
   "id": "f7a9984e",
   "metadata": {},
   "outputs": [
    {
     "name": "stdout",
     "output_type": "stream",
     "text": [
      "Usted PER\n",
      "lo \n",
      "está \n",
      "simplificando \n",
      ". \n",
      "El ORG\n",
      "Islam ORG\n",
      "no \n",
      "es \n",
      "la \n",
      "única \n",
      "razón \n",
      "detrás \n",
      "del \n",
      "terrorismo \n",
      ", \n",
      "los \n",
      "países \n",
      "occidentales \n",
      "entrometiéndose \n",
      "en \n",
      "el \n",
      "Medio MISC\n",
      "Oriente MISC\n",
      ", \n",
      "creando \n",
      "caos \n",
      ", \n",
      "robando \n",
      "recursos \n",
      "y \n",
      "matando \n",
      "gente \n",
      "inocente \n",
      "no \n",
      "ayuda \n",
      ". \n",
      "Es \n",
      "curioso \n",
      "que \n",
      "a \n",
      "todos \n",
      "estos \n",
      "partidarios \n",
      "de \n",
      "Trump PER\n",
      "y \n",
      "Le PER\n",
      "Pen PER\n",
      "no \n",
      "les \n",
      "importe \n",
      "cuando \n",
      "sus \n",
      "países \n",
      "lanzan \n",
      "bombas \n",
      "y \n",
      "ataques \n",
      "con \n",
      "drones \n",
      "contra \n",
      "personas \n",
      "inocentes \n",
      ". \n",
      "lo está simplificando . no es la única razón detrás del terrorismo , los países occidentales entrometiéndose en el Medio Oriente , creando caos , robando recursos y matando gente inocente no ayuda . Es curioso que a todos estos partidarios de y no les importe cuando sus países lanzan bombas y ataques con drones contra personas inocentes .\n"
     ]
    },
    {
     "name": "stderr",
     "output_type": "stream",
     "text": [
      "[nltk_data] Downloading package stopwords to /home/luis/nltk_data...\n",
      "[nltk_data]   Package stopwords is already up-to-date!\n"
     ]
    }
   ],
   "source": [
    "nltk.download('stopwords')\n",
    "\n",
    "spanish_stopwords = set(stopwords.words(\"spanish\"))\n",
    "\n",
    "n = 7\n",
    "\n",
    "doc = nlp(df.translated_text[n])\n",
    "\n",
    "cleaned_tokens = []\n",
    "for token in doc:\n",
    "    # Omitir tokens que son parte de una entidad nombrada (PER, ORG, LOC, GPE) o stopwords\n",
    "    print(token, token.ent_type_)\n",
    "    if not token.ent_type_ in [\"PER\", \"ORG\", \"LOC\", \"GPE\"]:\n",
    "        cleaned_tokens.append(token.text)\n",
    "print(\" \".join(cleaned_tokens))"
   ]
  },
  {
   "cell_type": "markdown",
   "id": "318b5c22",
   "metadata": {},
   "source": [
    "# Función definitiva para la extracción de Features"
   ]
  },
  {
   "cell_type": "code",
   "execution_count": 75,
   "id": "bb92cc55",
   "metadata": {},
   "outputs": [
    {
     "name": "stderr",
     "output_type": "stream",
     "text": [
      "[nltk_data] Downloading package stopwords to /home/luis/nltk_data...\n",
      "[nltk_data]   Package stopwords is already up-to-date!\n"
     ]
    },
    {
     "name": "stdout",
     "output_type": "stream",
     "text": [
      "                                     translated_text  \\\n",
      "0  /r/france es bastante animado, con su propia j...   \n",
      "1  Es una situación muy inusual, pero Fillon tamb...   \n",
      "2  La marca Le Pen del conservadurismo y el conse...   \n",
      "3  La cara de Macrons simplemente grita \"¡No la c...   \n",
      "4  Clinton lidera las encuestas en un 4%, bien de...   \n",
      "\n",
      "                                        cleaned_text     entity_frequencies  \n",
      "0  /r france animado jerga suele deliberadamente ...            {'MISC': 2}  \n",
      "1  situación inusual influye votantes candidatos ...             {'PER': 1}  \n",
      "2  marca   conservadurismo conservadurismo clásic...  {'MISC': 2, 'PER': 1}  \n",
      "3     cara simplemente grita conozco conozco conozco             {'PER': 1}  \n",
      "4  lidera encuestas 4% margen razonable pierda   ...             {'PER': 1}  \n"
     ]
    }
   ],
   "source": [
    "import pandas as pd\n",
    "import spacy\n",
    "from nltk.corpus import stopwords\n",
    "import nltk\n",
    "from collections import Counter\n",
    "import string\n",
    "import re\n",
    "\n",
    "# Descargar las stopwords de NLTK si no las tienes\n",
    "nltk.download('stopwords')\n",
    "\n",
    "# Cargar el modelo de lenguaje en español de spaCy\n",
    "nlp = spacy.load(\"es_core_news_lg\")\n",
    "\n",
    "# Cargar las stopwords en español de NLTK\n",
    "spanish_stopwords = set(stopwords.words('spanish'))\n",
    "caracteres_especiales = set(string.punctuation)\n",
    "\n",
    "# Lista manual de términos específicos para reemplazar o filtrar\n",
    "manual_entity_filter = {\"macron\", \"le pen\"}\n",
    "phrases_to_replace = [\"le pen\", \"macron\"]\n",
    "\n",
    "# Función para reemplazar frases específicas en el texto antes de procesar\n",
    "def replace_phrases(text, phrases):\n",
    "    for phrase in phrases:\n",
    "        # Usar regex para encontrar la frase completa y reemplazarla con una cadena vacía\n",
    "        text = re.sub(r'\\b' + re.escape(phrase) + r'\\b', '', text, flags=re.IGNORECASE)\n",
    "    return text\n",
    "\n",
    "# Lista ampliada de verbos modales (tanto simples como multitérmino)\n",
    "expanded_modals = [\n",
    "    \"poder\", \"deber\", \"tener que\", \"haber de\", \"querer\", \"necesitar\", \"ir a\", \"soler\", \"saber\",\n",
    "    \"poder ser que\", \"tener que ver con\", \"haber que\", \"estar por\", \"estar a punto de\", \"deber de\", \"tener ganas de\"\n",
    "]\n",
    "\n",
    "# Función para buscar y contar frases multitérmino en los lemas del texto\n",
    "def count_modal_phrases(doc, modals):\n",
    "    modal_count = 0\n",
    "    # Obtener los lemas del documento como una lista de palabras\n",
    "    lemmas = [token.lemma_ for token in doc]\n",
    "    # Unir los lemas en una cadena para buscar frases compuestas\n",
    "    lemma_text = \" \".join(lemmas)\n",
    "    \n",
    "    # Contar frases modales compuestas y palabras individuales\n",
    "    for modal in modals:\n",
    "        # Buscar todas las ocurrencias de la frase modal en el texto lematizado\n",
    "        matches = re.findall(r'\\b' + re.escape(modal) + r'\\b', lemma_text)\n",
    "        modal_count += len(matches)\n",
    "    \n",
    "    return modal_count\n",
    "\n",
    "# Función para extraer diferentes features lingüísticos, incluyendo el filtro manual de términos\n",
    "def extract_linguistic_features(text):\n",
    "    # Reemplazar frases específicas antes de procesar con spaCy\n",
    "    text = replace_phrases(text, phrases_to_replace)\n",
    "    \n",
    "    doc = nlp(text)\n",
    "    cleaned_tokens = []\n",
    "    pos_counter = Counter()\n",
    "    entity_counter = Counter()\n",
    "    stopword_count = 0\n",
    "    special_char_count = 0\n",
    "    sentence_count = len(list(doc.sents))\n",
    "    total_words = 0\n",
    "\n",
    "    verb_modal_count = count_modal_phrases(doc, expanded_modals)\n",
    "    \n",
    "    # Recorrer los tokens del texto procesado\n",
    "    for token in doc:\n",
    "        # Convertir token a minúsculas para hacer la comparación uniforme\n",
    "        token_text = token.text.lower()\n",
    "        \n",
    "        # Contar stopwords\n",
    "        if token_text in spanish_stopwords:\n",
    "            stopword_count += 1\n",
    "        # Contar caracteres especiales\n",
    "        if token_text in caracteres_especiales:\n",
    "            special_char_count += 1\n",
    "        # Contar total de palabras (excluyendo puntuación)\n",
    "        if not token.is_punct:\n",
    "            total_words += 1\n",
    "            # Limpiar tokens eliminando stopwords, entidades y términos específicos manualmente\n",
    "            if (not token.is_stop and \n",
    "                token_text not in spanish_stopwords and \n",
    "                not token.ent_type_ in [\"PER\", \"ORG\", \"LOC\", \"GPE\"] and \n",
    "                token_text not in manual_entity_filter):\n",
    "                cleaned_tokens.append(token.text)\n",
    "            # Contar etiquetas POS\n",
    "            pos_counter[token.pos_] += 1\n",
    "    \n",
    "    # Contar entidades nombradas (frecuencia por tipo)\n",
    "    for ent in doc.ents:\n",
    "        entity_counter[ent.label_] += 1\n",
    "    \n",
    "    # Calcular complejidad sintáctica (palabras por oración)\n",
    "    complexity = total_words / sentence_count if sentence_count > 0 else 0\n",
    "    # Densidad de stopwords\n",
    "    stopword_density = stopword_count / total_words if total_words > 0 else 0\n",
    "    # Longitud del texto original en palabras\n",
    "    text_length = len(doc)\n",
    "    \n",
    "    return {\n",
    "        \"cleaned_text\": \" \".join(cleaned_tokens),\n",
    "        \"pos_frequencies\": pos_counter,\n",
    "        \"entity_frequencies\": entity_counter,\n",
    "        \"stopword_density\": stopword_density,\n",
    "        \"special_char_count\": special_char_count,\n",
    "        \"verb_modal_count\": verb_modal_count,\n",
    "        \"syntactic_complexity\": complexity,\n",
    "        \"text_length\": text_length\n",
    "    }\n",
    "\n",
    "# Aplicar la función a cada fila del DataFrame\n",
    "df_features = df['translated_text'].apply(extract_linguistic_features)\n",
    "\n",
    "# Convertir los resultados en un DataFrame\n",
    "df_results = pd.DataFrame(df_features.tolist())\n",
    "\n",
    "# Combinar los resultados con el DataFrame original\n",
    "df_combined = pd.concat([df, df_results], axis=1)\n",
    "\n",
    "# Mostrar el DataFrame con los textos limpios y las características lingüísticas\n",
    "print(df_combined[['translated_text', 'cleaned_text', 'entity_frequencies']].head())\n"
   ]
  },
  {
   "cell_type": "code",
   "execution_count": 76,
   "id": "7c290666",
   "metadata": {},
   "outputs": [
    {
     "data": {
      "text/plain": [
       "Index(['translated_text', 'annotation_binary', 'data_split', 'cleaned_text',\n",
       "       'pos_frequencies', 'entity_frequencies', 'stopword_density',\n",
       "       'special_char_count', 'verb_modal_count', 'syntactic_complexity',\n",
       "       'text_length'],\n",
       "      dtype='object')"
      ]
     },
     "execution_count": 76,
     "metadata": {},
     "output_type": "execute_result"
    }
   ],
   "source": [
    "df_combined.columns"
   ]
  },
  {
   "cell_type": "code",
   "execution_count": 77,
   "id": "96fadf79",
   "metadata": {},
   "outputs": [
    {
     "name": "stdout",
     "output_type": "stream",
     "text": [
      "<class 'pandas.core.frame.DataFrame'>\n",
      "RangeIndex: 13080 entries, 0 to 13079\n",
      "Data columns (total 11 columns):\n",
      " #   Column                Non-Null Count  Dtype  \n",
      "---  ------                --------------  -----  \n",
      " 0   translated_text       13080 non-null  object \n",
      " 1   annotation_binary     13080 non-null  int64  \n",
      " 2   data_split            13080 non-null  object \n",
      " 3   cleaned_text          13080 non-null  object \n",
      " 4   pos_frequencies       13080 non-null  object \n",
      " 5   entity_frequencies    13080 non-null  object \n",
      " 6   stopword_density      13080 non-null  float64\n",
      " 7   special_char_count    13080 non-null  int64  \n",
      " 8   verb_modal_count      13080 non-null  int64  \n",
      " 9   syntactic_complexity  13080 non-null  float64\n",
      " 10  text_length           13080 non-null  int64  \n",
      "dtypes: float64(2), int64(4), object(5)\n",
      "memory usage: 1.1+ MB\n"
     ]
    }
   ],
   "source": [
    "df_combined.info()"
   ]
  },
  {
   "cell_type": "code",
   "execution_count": 78,
   "id": "9c4e9e4d",
   "metadata": {},
   "outputs": [
    {
     "name": "stdout",
     "output_type": "stream",
     "text": [
      "Usted lo está simplificando. El Islam no es la única razón detrás del terrorismo, los países occidentales entrometiéndose en el Medio Oriente, creando caos, robando recursos y matando gente inocente no ayuda. Es curioso que a todos estos partidarios de Trump y Le Pen no les importe cuando sus países lanzan bombas y ataques con drones contra personas inocentes.\n",
      "simplificando única razón terrorismo países occidentales entrometiéndose Oriente creando caos robando recursos matando gente inocente ayuda curioso partidarios   importe países lanzan bombas ataques drones personas inocentes\n"
     ]
    }
   ],
   "source": [
    "print(df_combined.iloc[7]['translated_text'])\n",
    "print(df_combined.iloc[7]['cleaned_text'])"
   ]
  },
  {
   "cell_type": "code",
   "execution_count": 79,
   "id": "e043e49f",
   "metadata": {},
   "outputs": [
    {
     "data": {
      "text/html": [
       "<div>\n",
       "<style scoped>\n",
       "    .dataframe tbody tr th:only-of-type {\n",
       "        vertical-align: middle;\n",
       "    }\n",
       "\n",
       "    .dataframe tbody tr th {\n",
       "        vertical-align: top;\n",
       "    }\n",
       "\n",
       "    .dataframe thead th {\n",
       "        text-align: right;\n",
       "    }\n",
       "</style>\n",
       "<table border=\"1\" class=\"dataframe\">\n",
       "  <thead>\n",
       "    <tr style=\"text-align: right;\">\n",
       "      <th></th>\n",
       "      <th>translated_text</th>\n",
       "      <th>annotation_binary</th>\n",
       "      <th>data_split</th>\n",
       "      <th>cleaned_text</th>\n",
       "      <th>pos_frequencies</th>\n",
       "      <th>entity_frequencies</th>\n",
       "      <th>stopword_density</th>\n",
       "      <th>special_char_count</th>\n",
       "      <th>verb_modal_count</th>\n",
       "      <th>syntactic_complexity</th>\n",
       "      <th>text_length</th>\n",
       "    </tr>\n",
       "  </thead>\n",
       "  <tbody>\n",
       "    <tr>\n",
       "      <th>0</th>\n",
       "      <td>/r/france es bastante animado, con su propia j...</td>\n",
       "      <td>1</td>\n",
       "      <td>train</td>\n",
       "      <td>/r france animado jerga suele deliberadamente ...</td>\n",
       "      <td>{'INTJ': 1, 'PROPN': 6, 'AUX': 6, 'ADV': 4, 'A...</td>\n",
       "      <td>{'MISC': 2}</td>\n",
       "      <td>0.372881</td>\n",
       "      <td>19</td>\n",
       "      <td>1</td>\n",
       "      <td>29.500000</td>\n",
       "      <td>78</td>\n",
       "    </tr>\n",
       "    <tr>\n",
       "      <th>1</th>\n",
       "      <td>Es una situación muy inusual, pero Fillon tamb...</td>\n",
       "      <td>1</td>\n",
       "      <td>val</td>\n",
       "      <td>situación inusual influye votantes candidatos ...</td>\n",
       "      <td>{'AUX': 1, 'DET': 2, 'NOUN': 3, 'ADV': 3, 'ADJ...</td>\n",
       "      <td>{'PER': 1}</td>\n",
       "      <td>0.526316</td>\n",
       "      <td>3</td>\n",
       "      <td>0</td>\n",
       "      <td>19.000000</td>\n",
       "      <td>22</td>\n",
       "    </tr>\n",
       "    <tr>\n",
       "      <th>2</th>\n",
       "      <td>La marca Le Pen del conservadurismo y el conse...</td>\n",
       "      <td>1</td>\n",
       "      <td>val</td>\n",
       "      <td>marca   conservadurismo conservadurismo clásic...</td>\n",
       "      <td>{'DET': 13, 'NOUN': 22, 'SPACE': 3, 'ADP': 11,...</td>\n",
       "      <td>{'MISC': 2, 'PER': 1}</td>\n",
       "      <td>0.455446</td>\n",
       "      <td>11</td>\n",
       "      <td>0</td>\n",
       "      <td>33.666667</td>\n",
       "      <td>112</td>\n",
       "    </tr>\n",
       "    <tr>\n",
       "      <th>3</th>\n",
       "      <td>La cara de Macrons simplemente grita \"¡No la c...</td>\n",
       "      <td>1</td>\n",
       "      <td>train</td>\n",
       "      <td>cara simplemente grita conozco conozco conozco</td>\n",
       "      <td>{'DET': 1, 'NOUN': 1, 'ADP': 1, 'PROPN': 1, 'A...</td>\n",
       "      <td>{'PER': 1}</td>\n",
       "      <td>0.533333</td>\n",
       "      <td>5</td>\n",
       "      <td>0</td>\n",
       "      <td>15.000000</td>\n",
       "      <td>21</td>\n",
       "    </tr>\n",
       "    <tr>\n",
       "      <th>4</th>\n",
       "      <td>Clinton lidera las encuestas en un 4%, bien de...</td>\n",
       "      <td>1</td>\n",
       "      <td>train</td>\n",
       "      <td>lidera encuestas 4% margen razonable pierda   ...</td>\n",
       "      <td>{'PROPN': 1, 'VERB': 3, 'DET': 6, 'NOUN': 5, '...</td>\n",
       "      <td>{'PER': 1}</td>\n",
       "      <td>0.454545</td>\n",
       "      <td>4</td>\n",
       "      <td>0</td>\n",
       "      <td>11.000000</td>\n",
       "      <td>37</td>\n",
       "    </tr>\n",
       "  </tbody>\n",
       "</table>\n",
       "</div>"
      ],
      "text/plain": [
       "                                     translated_text  annotation_binary  \\\n",
       "0  /r/france es bastante animado, con su propia j...                  1   \n",
       "1  Es una situación muy inusual, pero Fillon tamb...                  1   \n",
       "2  La marca Le Pen del conservadurismo y el conse...                  1   \n",
       "3  La cara de Macrons simplemente grita \"¡No la c...                  1   \n",
       "4  Clinton lidera las encuestas en un 4%, bien de...                  1   \n",
       "\n",
       "  data_split                                       cleaned_text  \\\n",
       "0      train  /r france animado jerga suele deliberadamente ...   \n",
       "1        val  situación inusual influye votantes candidatos ...   \n",
       "2        val  marca   conservadurismo conservadurismo clásic...   \n",
       "3      train     cara simplemente grita conozco conozco conozco   \n",
       "4      train  lidera encuestas 4% margen razonable pierda   ...   \n",
       "\n",
       "                                     pos_frequencies     entity_frequencies  \\\n",
       "0  {'INTJ': 1, 'PROPN': 6, 'AUX': 6, 'ADV': 4, 'A...            {'MISC': 2}   \n",
       "1  {'AUX': 1, 'DET': 2, 'NOUN': 3, 'ADV': 3, 'ADJ...             {'PER': 1}   \n",
       "2  {'DET': 13, 'NOUN': 22, 'SPACE': 3, 'ADP': 11,...  {'MISC': 2, 'PER': 1}   \n",
       "3  {'DET': 1, 'NOUN': 1, 'ADP': 1, 'PROPN': 1, 'A...             {'PER': 1}   \n",
       "4  {'PROPN': 1, 'VERB': 3, 'DET': 6, 'NOUN': 5, '...             {'PER': 1}   \n",
       "\n",
       "   stopword_density  special_char_count  verb_modal_count  \\\n",
       "0          0.372881                  19                 1   \n",
       "1          0.526316                   3                 0   \n",
       "2          0.455446                  11                 0   \n",
       "3          0.533333                   5                 0   \n",
       "4          0.454545                   4                 0   \n",
       "\n",
       "   syntactic_complexity  text_length  \n",
       "0             29.500000           78  \n",
       "1             19.000000           22  \n",
       "2             33.666667          112  \n",
       "3             15.000000           21  \n",
       "4             11.000000           37  "
      ]
     },
     "execution_count": 79,
     "metadata": {},
     "output_type": "execute_result"
    }
   ],
   "source": [
    "df_combined.head()"
   ]
  },
  {
   "cell_type": "code",
   "execution_count": 80,
   "id": "df71ab55",
   "metadata": {},
   "outputs": [],
   "source": [
    "df.to_parquet('data_split_enr.parquet')"
   ]
  },
  {
   "cell_type": "markdown",
   "id": "08a2014f",
   "metadata": {},
   "source": [
    "Para usar los datos tipo dict, recomendable usar el DictVectorizer de scikit-learn"
   ]
  },
  {
   "cell_type": "markdown",
   "id": "8c94fac9",
   "metadata": {},
   "source": [
    "# Seccion revisión a traves de clasificador"
   ]
  },
  {
   "cell_type": "code",
   "execution_count": 3,
   "id": "4784227e",
   "metadata": {},
   "outputs": [
    {
     "name": "stderr",
     "output_type": "stream",
     "text": [
      "[nltk_data] Downloading package stopwords to /Users/luis/nltk_data...\n",
      "[nltk_data]   Package stopwords is already up-to-date!\n",
      "[nltk_data] Downloading package punkt to /Users/luis/nltk_data...\n",
      "[nltk_data]   Package punkt is already up-to-date!\n"
     ]
    }
   ],
   "source": [
    "import nltk\n",
    "import spacy\n",
    "from nltk.corpus import stopwords\n",
    "\n",
    "# Descargar las stopwords de NLTK\n",
    "nltk.download('stopwords')\n",
    "\n",
    "# Descargar el tokenizador de NLTK\n",
    "nltk.download('punkt')\n",
    "\n",
    "# Descargar el modelo de spaCy\n",
    "nlp = spacy.load('es_core_news_sm')\n",
    "\n",
    "# Aumentar la longitud máxima de procesamiento de spaCy\n",
    "nlp.max_length = 2000000\n",
    "\n",
    "def procesar_texto(texto):\n",
    "    \"\"\"\n",
    "    Procesa el texto aplicando lematización y eliminando stopwords.\n",
    "\n",
    "    Parámetro:\n",
    "    - texto: String con el texto a procesar.\n",
    "\n",
    "    Retorna:\n",
    "    - Un string procesado.\n",
    "    \"\"\"\n",
    "    # Procesar el texto con spaCy\n",
    "    doc = nlp(texto.lower())\n",
    "    # Filtrar y lematizar palabras que no sean stopwords ni puntuación\n",
    "    palabras = [token.lemma_ for token in doc if token.lemma_ not in stopwords.words('spanish') and token.is_alpha]\n",
    "    return palabras"
   ]
  },
  {
   "cell_type": "code",
   "execution_count": 27,
   "id": "e30f0b24",
   "metadata": {},
   "outputs": [
    {
     "name": "stdout",
     "output_type": "stream",
     "text": [
      "Accuracy: 0.8093781855249745\n",
      "Classification Report:\n",
      "               precision    recall  f1-score   support\n",
      "\n",
      "           0       0.77      0.62      0.69       661\n",
      "           1       0.82      0.90      0.86      1301\n",
      "\n",
      "    accuracy                           0.81      1962\n",
      "   macro avg       0.80      0.76      0.78      1962\n",
      "weighted avg       0.81      0.81      0.80      1962\n",
      "\n"
     ]
    },
    {
     "name": "stderr",
     "output_type": "stream",
     "text": [
      "/opt/anaconda3/envs/nlp_course/lib/python3.11/site-packages/sklearn/linear_model/_logistic.py:458: ConvergenceWarning: lbfgs failed to converge (status=1):\n",
      "STOP: TOTAL NO. of ITERATIONS REACHED LIMIT.\n",
      "\n",
      "Increase the number of iterations (max_iter) or scale the data as shown in:\n",
      "    https://scikit-learn.org/stable/modules/preprocessing.html\n",
      "Please also refer to the documentation for alternative solver options:\n",
      "    https://scikit-learn.org/stable/modules/linear_model.html#logistic-regression\n",
      "  n_iter_i = _check_optimize_result(\n"
     ]
    }
   ],
   "source": [
    "from sklearn.model_selection import train_test_split\n",
    "from sklearn.feature_extraction.text import CountVectorizer\n",
    "from sklearn.linear_model import LogisticRegression\n",
    "from sklearn.pipeline import Pipeline\n",
    "from sklearn.compose import ColumnTransformer\n",
    "from sklearn.metrics import classification_report, accuracy_score\n",
    "import pandas as pd\n",
    "\n",
    "# Separar en variables independientes (X) y variable objetivo (y)\n",
    "X_train = df[df.data_split == 'train'][['translated_text']] # X debe ser un DataFrame para usar ColumnTransformer\n",
    "y_train = df[df.data_split == 'train']['annotation_binary']\n",
    "\n",
    "X_test = df[df.data_split == 'test'][['translated_text']] # X debe ser un DataFrame para usar ColumnTransformer\n",
    "y_test = df[df.data_split == 'test']['annotation_binary']\n",
    "\n",
    "# Crear un ColumnTransformer para seleccionar la columna \"translated_text\" y aplicar CountVectorizer\n",
    "preprocessor = ColumnTransformer(\n",
    "    [('vectorizer', CountVectorizer(), 'translated_text')],\n",
    "    remainder='drop'  # Ignorar otras columnas\n",
    ")\n",
    "\n",
    "# Crear pipeline con ColumnTransformer y LogisticRegression\n",
    "pipeline = Pipeline([\n",
    "    ('preprocessor', preprocessor),   # Preprocesamiento: Vectorización del texto\n",
    "    ('classifier', LogisticRegression())  # Modelo de regresión logística\n",
    "])\n",
    "\n",
    "# Entrenar el modelo\n",
    "pipeline.fit(X_train, y_train)\n",
    "\n",
    "# Realizar predicciones\n",
    "y_pred = pipeline.predict(X_test)\n",
    "\n",
    "# Evaluar el modelo\n",
    "print(\"Accuracy:\", accuracy_score(y_test, y_pred))\n",
    "print(\"Classification Report:\\n\", classification_report(y_test, y_pred))"
   ]
  },
  {
   "cell_type": "code",
   "execution_count": 68,
   "id": "60597fe4",
   "metadata": {},
   "outputs": [],
   "source": [
    "vocabulario = pipeline.named_steps['preprocessor'].named_transformers_['vectorizer'].get_feature_names_out()\n",
    "coeficientes = pipeline.named_steps['classifier'].coef_"
   ]
  },
  {
   "cell_type": "code",
   "execution_count": 94,
   "id": "98f2bae4",
   "metadata": {},
   "outputs": [
    {
     "data": {
      "text/plain": [
       "23716"
      ]
     },
     "execution_count": 94,
     "metadata": {},
     "output_type": "execute_result"
    }
   ],
   "source": [
    "list(coeficientes[0]).__len__()"
   ]
  },
  {
   "cell_type": "code",
   "execution_count": 97,
   "id": "ff2a26eb",
   "metadata": {},
   "outputs": [],
   "source": [
    "import numpy as np\n",
    "\n",
    "voc_df = pd.DataFrame.from_dict({'vocabulary':list(vocabulario),\n",
    "                                 'coeficiente':list(coeficientes[0]),\n",
    "                                 'importance':np.abs(list(coeficientes[0]))})"
   ]
  },
  {
   "cell_type": "code",
   "execution_count": 100,
   "id": "e5887743",
   "metadata": {},
   "outputs": [],
   "source": [
    "voc_df.sort_values(by = 'importance', ascending= False, inplace= True)"
   ]
  },
  {
   "cell_type": "code",
   "execution_count": 109,
   "id": "b84d6e60",
   "metadata": {},
   "outputs": [
    {
     "data": {
      "text/plain": [
       "<Axes: xlabel='coeficiente', ylabel='vocabulary'>"
      ]
     },
     "execution_count": 109,
     "metadata": {},
     "output_type": "execute_result"
    },
    {
     "data": {
      "image/png": "[encoded data removed]",
      "text/plain": [
       "<Figure size 640x480 with 1 Axes>"
      ]
     },
     "metadata": {},
     "output_type": "display_data"
    }
   ],
   "source": [
    "import seaborn as sns\n",
    "from matplotlib import pyplot as plt\n",
    "\n",
    "plt.style.use('ggplot')\n",
    "\n",
    "sns.barplot(data = voc_df.head(20),\n",
    "            x = 'coeficiente',\n",
    "            y = 'vocabulary',\n",
    "            color = '#c00009',\n",
    "            orient='h')"
   ]
  },
  {
   "cell_type": "code",
   "execution_count": 110,
   "id": "c302661f",
   "metadata": {},
   "outputs": [
    {
     "data": {
      "text/plain": [
       "<Axes: xlabel='coeficiente', ylabel='vocabulary'>"
      ]
     },
     "execution_count": 110,
     "metadata": {},
     "output_type": "execute_result"
    },
    {
     "data": {
      "image/png": "[encoded data removed]",
      "text/plain": [
       "<Figure size 640x480 with 1 Axes>"
      ]
     },
     "metadata": {},
     "output_type": "display_data"
    }
   ],
   "source": [
    "sns.barplot(data = voc_df.tail(20),\n",
    "            x = 'coeficiente',\n",
    "            y = 'vocabulary',\n",
    "            color = '#c00009',\n",
    "            orient='h')"
   ]
  },
  {
   "cell_type": "code",
   "execution_count": 120,
   "id": "52072b38",
   "metadata": {},
   "outputs": [],
   "source": [
    "voc_df.reset_index(inplace=True)"
   ]
  },
  {
   "cell_type": "code",
   "execution_count": 133,
   "id": "0b0b4912",
   "metadata": {},
   "outputs": [
    {
     "data": {
      "text/plain": [
       "(23716, 4)"
      ]
     },
     "execution_count": 133,
     "metadata": {},
     "output_type": "execute_result"
    }
   ],
   "source": [
    "voc_df.shape"
   ]
  },
  {
   "cell_type": "code",
   "execution_count": 122,
   "id": "936d49a8",
   "metadata": {},
   "outputs": [
    {
     "data": {
      "text/html": [
       "<div>\n",
       "<style scoped>\n",
       "    .dataframe tbody tr th:only-of-type {\n",
       "        vertical-align: middle;\n",
       "    }\n",
       "\n",
       "    .dataframe tbody tr th {\n",
       "        vertical-align: top;\n",
       "    }\n",
       "\n",
       "    .dataframe thead th {\n",
       "        text-align: right;\n",
       "    }\n",
       "</style>\n",
       "<table border=\"1\" class=\"dataframe\">\n",
       "  <thead>\n",
       "    <tr style=\"text-align: right;\">\n",
       "      <th></th>\n",
       "      <th>index</th>\n",
       "      <th>vocabulary</th>\n",
       "      <th>coeficiente</th>\n",
       "      <th>importance</th>\n",
       "    </tr>\n",
       "  </thead>\n",
       "  <tbody>\n",
       "    <tr>\n",
       "      <th>11106</th>\n",
       "      <td>22382</td>\n",
       "      <td>trump</td>\n",
       "      <td>0.103155</td>\n",
       "      <td>0.103155</td>\n",
       "    </tr>\n",
       "  </tbody>\n",
       "</table>\n",
       "</div>"
      ],
      "text/plain": [
       "       index vocabulary  coeficiente  importance\n",
       "11106  22382      trump     0.103155    0.103155"
      ]
     },
     "execution_count": 122,
     "metadata": {},
     "output_type": "execute_result"
    }
   ],
   "source": [
    "voc_df[voc_df.vocabulary == 'trump']"
   ]
  },
  {
   "cell_type": "code",
   "execution_count": 125,
   "id": "df3864ef",
   "metadata": {},
   "outputs": [
    {
     "data": {
      "text/html": [
       "<div>\n",
       "<style scoped>\n",
       "    .dataframe tbody tr th:only-of-type {\n",
       "        vertical-align: middle;\n",
       "    }\n",
       "\n",
       "    .dataframe tbody tr th {\n",
       "        vertical-align: top;\n",
       "    }\n",
       "\n",
       "    .dataframe thead th {\n",
       "        text-align: right;\n",
       "    }\n",
       "</style>\n",
       "<table border=\"1\" class=\"dataframe\">\n",
       "  <thead>\n",
       "    <tr style=\"text-align: right;\">\n",
       "      <th></th>\n",
       "      <th>index</th>\n",
       "      <th>vocabulary</th>\n",
       "      <th>coeficiente</th>\n",
       "      <th>importance</th>\n",
       "    </tr>\n",
       "  </thead>\n",
       "  <tbody>\n",
       "    <tr>\n",
       "      <th>1828</th>\n",
       "      <td>14103</td>\n",
       "      <td>macron</td>\n",
       "      <td>0.4315</td>\n",
       "      <td>0.4315</td>\n",
       "    </tr>\n",
       "  </tbody>\n",
       "</table>\n",
       "</div>"
      ],
      "text/plain": [
       "      index vocabulary  coeficiente  importance\n",
       "1828  14103     macron       0.4315      0.4315"
      ]
     },
     "execution_count": 125,
     "metadata": {},
     "output_type": "execute_result"
    }
   ],
   "source": [
    "voc_df[voc_df.vocabulary == 'macron']"
   ]
  },
  {
   "cell_type": "code",
   "execution_count": 126,
   "id": "da5f9427",
   "metadata": {},
   "outputs": [
    {
     "data": {
      "text/html": [
       "<div>\n",
       "<style scoped>\n",
       "    .dataframe tbody tr th:only-of-type {\n",
       "        vertical-align: middle;\n",
       "    }\n",
       "\n",
       "    .dataframe tbody tr th {\n",
       "        vertical-align: top;\n",
       "    }\n",
       "\n",
       "    .dataframe thead th {\n",
       "        text-align: right;\n",
       "    }\n",
       "</style>\n",
       "<table border=\"1\" class=\"dataframe\">\n",
       "  <thead>\n",
       "    <tr style=\"text-align: right;\">\n",
       "      <th></th>\n",
       "      <th>index</th>\n",
       "      <th>vocabulary</th>\n",
       "      <th>coeficiente</th>\n",
       "      <th>importance</th>\n",
       "    </tr>\n",
       "  </thead>\n",
       "  <tbody>\n",
       "    <tr>\n",
       "      <th>1627</th>\n",
       "      <td>3935</td>\n",
       "      <td>casa</td>\n",
       "      <td>0.454888</td>\n",
       "      <td>0.454888</td>\n",
       "    </tr>\n",
       "  </tbody>\n",
       "</table>\n",
       "</div>"
      ],
      "text/plain": [
       "      index vocabulary  coeficiente  importance\n",
       "1627   3935       casa     0.454888    0.454888"
      ]
     },
     "execution_count": 126,
     "metadata": {},
     "output_type": "execute_result"
    }
   ],
   "source": [
    "voc_df[voc_df.vocabulary == 'casa']"
   ]
  },
  {
   "cell_type": "code",
   "execution_count": 130,
   "id": "cb4b4c2c",
   "metadata": {},
   "outputs": [
    {
     "data": {
      "text/html": [
       "<div>\n",
       "<style scoped>\n",
       "    .dataframe tbody tr th:only-of-type {\n",
       "        vertical-align: middle;\n",
       "    }\n",
       "\n",
       "    .dataframe tbody tr th {\n",
       "        vertical-align: top;\n",
       "    }\n",
       "\n",
       "    .dataframe thead th {\n",
       "        text-align: right;\n",
       "    }\n",
       "</style>\n",
       "<table border=\"1\" class=\"dataframe\">\n",
       "  <thead>\n",
       "    <tr style=\"text-align: right;\">\n",
       "      <th></th>\n",
       "      <th>index</th>\n",
       "      <th>vocabulary</th>\n",
       "      <th>coeficiente</th>\n",
       "      <th>importance</th>\n",
       "    </tr>\n",
       "  </thead>\n",
       "  <tbody>\n",
       "    <tr>\n",
       "      <th>9756</th>\n",
       "      <td>3203</td>\n",
       "      <td>blanca</td>\n",
       "      <td>-0.124799</td>\n",
       "      <td>0.124799</td>\n",
       "    </tr>\n",
       "  </tbody>\n",
       "</table>\n",
       "</div>"
      ],
      "text/plain": [
       "      index vocabulary  coeficiente  importance\n",
       "9756   3203     blanca    -0.124799    0.124799"
      ]
     },
     "execution_count": 130,
     "metadata": {},
     "output_type": "execute_result"
    }
   ],
   "source": [
    "voc_df[voc_df.vocabulary == 'blanca']"
   ]
  }
 ],
 "metadata": {
  "kernelspec": {
   "display_name": "Python 3 (ipykernel)",
   "language": "python",
   "name": "python3"
  },
  "language_info": {
   "codemirror_mode": {
    "name": "ipython",
    "version": 3
   },
   "file_extension": ".py",
   "mimetype": "text/x-python",
   "name": "python",
   "nbconvert_exporter": "python",
   "pygments_lexer": "ipython3",
   "version": "3.12.4"
  }
 },
 "nbformat": 4,
 "nbformat_minor": 5
}
